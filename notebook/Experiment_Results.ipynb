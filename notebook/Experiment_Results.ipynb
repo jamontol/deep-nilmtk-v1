{
 "cells": [
  {
   "cell_type": "markdown",
   "metadata": {},
   "source": [
    "# HIPE"
   ]
  },
  {
   "cell_type": "code",
   "execution_count": null,
   "metadata": {},
   "outputs": [],
   "source": [
    "import pickle\n",
    "import pandas as pd\n",
    "import plotly.express as px"
   ]
  },
  {
   "cell_type": "code",
   "execution_count": 2,
   "metadata": {},
   "outputs": [],
   "source": [
    "#EXPERIMENT_NAME = 'hipe_with_baselines_agg-ALL_noise1.p'\n",
    "EXPERIMENT_NAME = 'hipe_with_baselines_agg-ALL_noise2.p'\n"
   ]
  },
  {
   "cell_type": "markdown",
   "metadata": {},
   "source": [
    "## Test for all models"
   ]
  },
  {
   "cell_type": "code",
   "execution_count": 13,
   "metadata": {},
   "outputs": [
    {
     "data": {
      "text/plain": [
       "dict_keys(['error_keys', 'errors', 'train_mains', 'train_submeters', 'test_mains', 'test_submeters', 'gt', 'predictions', 'execution_time'])"
      ]
     },
     "execution_count": 13,
     "metadata": {},
     "output_type": "execute_result"
    }
   ],
   "source": [
    "with open(f\"results/{EXPERIMENT_NAME}\", 'rb') as f:\n",
    "    results = pickle.load(f)\n",
    "results.keys()"
   ]
  },
  {
   "cell_type": "code",
   "execution_count": 14,
   "metadata": {},
   "outputs": [],
   "source": [
    "#device_type = results['predictions']['Seq2Pointbaseline'].columns.get_level_values(0)[0]\n",
    "device_instances = list(results['predictions']['Seq2Pointbaseline'].columns)\n",
    "\n",
    "wm_results = []\n",
    "\n",
    "for ind, instance in enumerate(device_instances): \n",
    "\n",
    "    wm_results.append(pd.DataFrame({\n",
    "        #key: results['predictions'][key][device_type].values.reshape(-1) for key in results['predictions']\n",
    "        key: results['predictions'][key][instance].values.reshape(-1) for key in results['predictions']\n",
    "    }, index= results['test_submeters'][ind][1][0].index))\n",
    "    wm_results[ind]['True consumption']= results['test_submeters'][ind][1][0].values\n"
   ]
  },
  {
   "cell_type": "code",
   "execution_count": null,
   "metadata": {},
   "outputs": [],
   "source": [
    "fig = px.scatter(wm_results[0]).update_traces(mode=\"lines+markers\")\n",
    "fig.update_layout(title_text=f\"Chip Saw\")"
   ]
  },
  {
   "cell_type": "code",
   "execution_count": null,
   "metadata": {},
   "outputs": [],
   "source": [
    "fig = px.scatter(wm_results[1]).update_traces(mode=\"lines+markers\")\n",
    "fig.update_layout(title_text=f\"Vacuum Pump 1\")"
   ]
  },
  {
   "cell_type": "code",
   "execution_count": null,
   "metadata": {},
   "outputs": [],
   "source": [
    "fig = px.scatter(wm_results[2]).update_traces(mode=\"lines+markers\")\n",
    "fig.update_layout(title_text=f\"High Temperature Oven\")"
   ]
  },
  {
   "cell_type": "code",
   "execution_count": null,
   "metadata": {},
   "outputs": [],
   "source": [
    "fig = px.scatter(wm_results[3]).update_traces(mode=\"lines+markers\")\n",
    "fig.update_layout(title_text=f\"Printer\")"
   ]
  }
 ],
 "metadata": {
  "kernelspec": {
   "display_name": "NILM-env",
   "language": "python",
   "name": "python3"
  },
  "language_info": {
   "codemirror_mode": {
    "name": "ipython",
    "version": 3
   },
   "file_extension": ".py",
   "mimetype": "text/x-python",
   "name": "python",
   "nbconvert_exporter": "python",
   "pygments_lexer": "ipython3",
   "version": "3.11.9"
  }
 },
 "nbformat": 4,
 "nbformat_minor": 2
}
