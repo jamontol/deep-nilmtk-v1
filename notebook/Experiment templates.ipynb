{
 "cells": [
  {
   "cell_type": "markdown",
   "id": "4a98632b",
   "metadata": {},
   "source": [
    "# Experiment templates\n",
    "**Author: Hafsa Bousbiat**\n",
    "\n",
    "\n",
    "NILMtk is toolkit offering a variety of tools for scholars to help them analyse NILM datasets. The recently introduced API made it very easy for users to interact with the toolkit and perform experiments using different experimental setups. However, the use of different setups in different papers makes it difficult to compare and analyse the results that are obtained in order to have a fair benchmarking.  Fo this reason, the deep-nilmtk takes the pipeline automation a step further and offer a pre-configured **templates for the experiments**. The current version contain only one template for the ukdale. However, this componenet is flexible and subject to extension for scholars to share their designs and encourage a standard/common experimental setups that allow for **direct comparison** and **easy benchmarking**.\n",
    "\n",
    "\n",
    "The current notebook uses  the **ukdale template** to train the washing machine. For demonstartion purposes, we will only use a single baseline, the Seq2Point baseline. The ukdale experiment template is a NILMtk experiment with three months of training and one month of testing on the the building 1. The sample rate used is an 8 seconds. "
   ]
  },
  {
   "cell_type": "code",
   "execution_count": 5,
   "id": "a07653cd",
   "metadata": {},
   "outputs": [],
   "source": [
    "from deep_nilmtk.disaggregator import NILMExperiment\n",
    "from deep_nilmtk.models.pytorch import UNETNILM\n",
    "from deep_nilmtk.data.loader.pytorch import GeneralDataLoader\n",
    "from deep_nilmtk.utils.templates import ExperimentTemplate\n",
    "\n",
    "import pandas as pd\n",
    "import numpy as np\n",
    "import pickle\n",
    "\n",
    "import matplotlib.pyplot as plt\n",
    "from matplotlib.pyplot import figure\n",
    "\n",
    "from pathlib import Path\n"
   ]
  },
  {
   "cell_type": "markdown",
   "id": "4b06a661",
   "metadata": {},
   "source": [
    "### HIPE"
   ]
  },
  {
   "cell_type": "code",
   "execution_count": 6,
   "id": "d58db16f",
   "metadata": {},
   "outputs": [],
   "source": [
    "DATA_PATH = '../../data/'\n",
    "EXPERIMENT_NAME = 'hipe_with_baselines'\n",
    "RESULTS_PATH = '../../results/hipe/hipe_with_baselines'"
   ]
  },
  {
   "cell_type": "markdown",
   "id": "009895b2",
   "metadata": {},
   "source": [
    "### REDD"
   ]
  },
  {
   "cell_type": "code",
   "execution_count": 6,
   "id": "d48c2b60",
   "metadata": {},
   "outputs": [],
   "source": [
    "DATA_PATH = '../../data/'\n",
    "EXPERIMENT_NAME = 'redd_with_baselines'\n",
    "RESULTS_PATH = '../../results/redd/hipe_with_baselines'"
   ]
  },
  {
   "cell_type": "markdown",
   "id": "3cf882ab",
   "metadata": {},
   "source": [
    "## Template Initialization"
   ]
  },
  {
   "cell_type": "code",
   "execution_count": 5,
   "id": "8ae8d68f",
   "metadata": {},
   "outputs": [
    {
     "name": "stderr",
     "output_type": "stream",
     "text": [
      "WARNING:root:the in_size and max_nb_epochs must be added to the list of this parameters\n",
      "WARNING:root:the in_size and max_nb_epochs must be added to the list of this parameters\n"
     ]
    }
   ],
   "source": [
    "model_config ={\n",
    "    'in_size': 121,\n",
    "    'out_size': 1,\n",
    "    'max_nb_epochs': 1\n",
    "}\n",
    "\n",
    "template = ExperimentTemplate( data_path=DATA_PATH,\n",
    "                 template_name='redd_acts_from_paper',\n",
    "                 list_appliances=['washing machine'],\n",
    "                 list_baselines_backends=[('Seq2Pointbaseline', 'pytorch')],\n",
    "                 model_config = model_config)"
   ]
  },
  {
   "cell_type": "markdown",
   "id": "f1707539",
   "metadata": {},
   "source": [
    "## Custom model"
   ]
  },
  {
   "cell_type": "code",
   "execution_count": 11,
   "id": "f8526545",
   "metadata": {
    "pycharm": {
     "name": "#%%\n"
    }
   },
   "outputs": [],
   "source": [
    "unet_nilm = NILMExperiment({\n",
    "                \"model_class\": UNETNILM,\n",
    "                \"loader_class\": GeneralDataLoader,\n",
    "                \"model_name\": 'unet101',\n",
    "                'backend':'pytorch',\n",
    "                'in_size': 121,\n",
    "                'out_size':1,\n",
    "                'custom_preprocess':None,\n",
    "                'feature_type':'mains',\n",
    "                'input_norm':'z-norm',\n",
    "                'target_norm':'z-norm',\n",
    "                'seq_type':'seq2point',\n",
    "                'point_position':'mid_position',\n",
    "                'learning_rate':10e-5,\n",
    "                'max_nb_epochs': 1\n",
    "                })"
   ]
  },
  {
   "cell_type": "markdown",
   "id": "974f4495",
   "metadata": {},
   "source": [
    "## Extending the template"
   ]
  },
  {
   "cell_type": "code",
   "execution_count": null,
   "id": "6621530c",
   "metadata": {},
   "outputs": [],
   "source": [
    "template.extend_experiment({\n",
    "    'unet101':unet_nilm\n",
    "})\n",
    "\n",
    "template.__print__()"
   ]
  },
  {
   "cell_type": "markdown",
   "id": "d060f860",
   "metadata": {},
   "source": [
    "## Running the experiment"
   ]
  },
  {
   "cell_type": "code",
   "execution_count": 3,
   "id": "7e258f07",
   "metadata": {},
   "outputs": [
    {
     "data": {
      "text/plain": [
       "'redd_with_baselines'"
      ]
     },
     "execution_count": 3,
     "metadata": {},
     "output_type": "execute_result"
    }
   ],
   "source": [
    "EXPERIMENT_NAME"
   ]
  },
  {
   "cell_type": "code",
   "execution_count": 4,
   "id": "885eb758",
   "metadata": {},
   "outputs": [
    {
     "data": {
      "text/plain": [
       "'../../redd_with_baselines'"
      ]
     },
     "execution_count": 4,
     "metadata": {},
     "output_type": "execute_result"
    }
   ],
   "source": [
    "RESULTS_PATH"
   ]
  },
  {
   "cell_type": "code",
   "execution_count": null,
   "id": "0ba07623",
   "metadata": {},
   "outputs": [
    {
     "name": "stdout",
     "output_type": "stream",
     "text": [
      "Started training for  Seq2Pointbaseline\n",
      "Joint training for  Seq2Pointbaseline\n",
      "............... Loading Data for training ...................\n",
      "Loading data for  redd  dataset\n"
     ]
    }
   ],
   "source": [
    "template.run_template(EXPERIMENT_NAME,\n",
    "                     RESULTS_PATH,\n",
    "                     f'{RESULTS_PATH}/mlflow')"
   ]
  },
  {
   "cell_type": "markdown",
   "id": "87e830c2",
   "metadata": {},
   "source": [
    "## Check the results"
   ]
  },
  {
   "cell_type": "markdown",
   "id": "ddbd6596",
   "metadata": {},
   "source": [
    "The results directory will contain several artifacts. Analysing the results of an experiment can be done either using mlflow for a detailed tracking and logging of the training process or for comparison between the current results and previous experiments of the user. The second option to just check the final output of teh current expeiment is to load the results from a pickle file holding the name of the experiment that can be also found in the specified results path. \n",
    "\n",
    "For the current notebook, we only check the pickle file and have a closer look at the generated predictions."
   ]
  },
  {
   "cell_type": "code",
   "execution_count": 4,
   "id": "425ba79f",
   "metadata": {},
   "outputs": [
    {
     "data": {
      "text/plain": [
       "dict_keys(['error_keys', 'errors', 'train_mains', 'train_submeters', 'test_mains', 'test_submeters', 'gt', 'predictions', 'execution_time'])"
      ]
     },
     "execution_count": 4,
     "metadata": {},
     "output_type": "execute_result"
    }
   ],
   "source": [
    "with open(f'{RESULTS_PATH}/{EXPERIMENT_NAME}.p', 'rb') as f:\n",
    "    results = pickle.load(f)\n",
    "results.keys()"
   ]
  },
  {
   "cell_type": "code",
   "execution_count": 5,
   "id": "7139f647",
   "metadata": {},
   "outputs": [
    {
     "data": {
      "text/html": [
       "<div>\n",
       "<style scoped>\n",
       "    .dataframe tbody tr th:only-of-type {\n",
       "        vertical-align: middle;\n",
       "    }\n",
       "\n",
       "    .dataframe tbody tr th {\n",
       "        vertical-align: top;\n",
       "    }\n",
       "\n",
       "    .dataframe thead th {\n",
       "        text-align: right;\n",
       "    }\n",
       "</style>\n",
       "<table border=\"1\" class=\"dataframe\">\n",
       "  <thead>\n",
       "    <tr style=\"text-align: right;\">\n",
       "      <th></th>\n",
       "      <th>Seq2Pointbaseline</th>\n",
       "      <th>True consumption</th>\n",
       "    </tr>\n",
       "  </thead>\n",
       "  <tbody>\n",
       "    <tr>\n",
       "      <th>2011-04-18 09:22:12-04:00</th>\n",
       "      <td>1.064938</td>\n",
       "      <td>0.0</td>\n",
       "    </tr>\n",
       "    <tr>\n",
       "      <th>2011-04-18 09:22:18-04:00</th>\n",
       "      <td>1.064938</td>\n",
       "      <td>0.0</td>\n",
       "    </tr>\n",
       "    <tr>\n",
       "      <th>2011-04-18 09:22:24-04:00</th>\n",
       "      <td>1.064938</td>\n",
       "      <td>0.0</td>\n",
       "    </tr>\n",
       "    <tr>\n",
       "      <th>2011-04-18 09:22:30-04:00</th>\n",
       "      <td>1.064938</td>\n",
       "      <td>0.0</td>\n",
       "    </tr>\n",
       "    <tr>\n",
       "      <th>2011-04-18 09:22:36-04:00</th>\n",
       "      <td>1.064938</td>\n",
       "      <td>0.0</td>\n",
       "    </tr>\n",
       "  </tbody>\n",
       "</table>\n",
       "</div>"
      ],
      "text/plain": [
       "                           Seq2Pointbaseline  True consumption\n",
       "2011-04-18 09:22:12-04:00           1.064938               0.0\n",
       "2011-04-18 09:22:18-04:00           1.064938               0.0\n",
       "2011-04-18 09:22:24-04:00           1.064938               0.0\n",
       "2011-04-18 09:22:30-04:00           1.064938               0.0\n",
       "2011-04-18 09:22:36-04:00           1.064938               0.0"
      ]
     },
     "execution_count": 5,
     "metadata": {},
     "output_type": "execute_result"
    }
   ],
   "source": [
    "wm_results=pd.DataFrame({\n",
    "    key: results['predictions'][key].values.reshape(-1) for key in results['predictions']\n",
    "}, index= results['test_submeters'][0][1][0].index)\n",
    "wm_results['True consumption']= results['test_submeters'][0][1][0].values\n",
    "\n",
    "wm_results.head()"
   ]
  },
  {
   "cell_type": "code",
   "execution_count": null,
   "id": "5b583653",
   "metadata": {},
   "outputs": [],
   "source": [
    "import plotly.express as px\n",
    "\n",
    "px.scatter(wm_results).show()"
   ]
  },
  {
   "cell_type": "code",
   "execution_count": 7,
   "id": "16de8590",
   "metadata": {},
   "outputs": [
    {
     "data": {
      "text/plain": [
       "<Axes: >"
      ]
     },
     "execution_count": 7,
     "metadata": {},
     "output_type": "execute_result"
    },
    {
     "data": {
      "image/png": "[encoded data removed]",
      "text/plain": [
       "<Figure size 2000x500 with 1 Axes>"
      ]
     },
     "metadata": {},
     "output_type": "display_data"
    }
   ],
   "source": [
    "wm_results.plot(figsize=(20,5))"
   ]
  },
  {
   "cell_type": "markdown",
   "id": "c6b66636",
   "metadata": {},
   "source": [
    "Cool!! We obtained the results of the experiment. Let's now zoom a bit and look at one activation."
   ]
  },
  {
   "cell_type": "code",
   "execution_count": 9,
   "id": "d98df997",
   "metadata": {},
   "outputs": [
    {
     "data": {
      "text/plain": [
       "<Axes: >"
      ]
     },
     "execution_count": 9,
     "metadata": {},
     "output_type": "execute_result"
    },
    {
     "data": {
      "image/png": "[encoded data removed]",
      "text/plain": [
       "<Figure size 2000x500 with 1 Axes>"
      ]
     },
     "metadata": {},
     "output_type": "display_data"
    }
   ],
   "source": [
    "wm_results.iloc[16700:17700].plot(figsize=(20,5))"
   ]
  }
 ],
 "metadata": {
  "kernelspec": {
   "display_name": "NILM-env",
   "language": "python",
   "name": "python3"
  },
  "language_info": {
   "codemirror_mode": {
    "name": "ipython",
    "version": 3
   },
   "file_extension": ".py",
   "mimetype": "text/x-python",
   "name": "python",
   "nbconvert_exporter": "python",
   "pygments_lexer": "ipython3",
   "version": "3.11.9"
  }
 },
 "nbformat": 4,
 "nbformat_minor": 5
}
