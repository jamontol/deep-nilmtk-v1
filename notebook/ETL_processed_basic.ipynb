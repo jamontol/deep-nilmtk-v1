{
 "cells": [
  {
   "attachments": {},
   "cell_type": "markdown",
   "metadata": {},
   "source": [
    "# Data Conversion\n",
    "\n",
    "NILM\n",
    "\n",
    "Javier Monreal Tolmo. GFT Spain\n",
    "\n",
    "September 2024 - October 2024"
   ]
  },
  {
   "attachments": {},
   "cell_type": "markdown",
   "metadata": {},
   "source": [
    "## Load HIPE Data"
   ]
  },
  {
   "cell_type": "code",
   "execution_count": 1,
   "metadata": {},
   "outputs": [],
   "source": [
    "from pathlib import Path\n",
    "\n",
    "data_path = Path(\"../../data\")\n",
    "\n",
    "zip_file = \"hipe_cleaned_v1.0.1_geq_2017-10-01_lt_2018-01-01_features_v1.0.0_only-on_15minutes-agg.zip\"\n"
   ]
  },
  {
   "cell_type": "markdown",
   "metadata": {},
   "source": [
    "## Extract Zip"
   ]
  },
  {
   "cell_type": "code",
   "execution_count": null,
   "metadata": {},
   "outputs": [],
   "source": [
    "from pathlib import Path\n",
    "\n",
    "data_path = Path(\"../../data\")\n",
    "\n",
    "from nilm.load_utils.load_data import unzip_files\n",
    "\n",
    "unzip_files(data_path, zip_file, output_path = str(data_path / f\"{zip_file.split('.')[0]}_15min\"))"
   ]
  },
  {
   "cell_type": "markdown",
   "metadata": {},
   "source": [
    "## Convert to H5FS (NILMTK format)"
   ]
  },
  {
   "cell_type": "code",
   "execution_count": null,
   "metadata": {},
   "outputs": [],
   "source": [
    "str(data_path / f\"{zip_file.split('.')[0]}\")"
   ]
  },
  {
   "cell_type": "code",
   "execution_count": null,
   "metadata": {},
   "outputs": [],
   "source": [
    "from nilmtk.dataset_converters.hipe.convert_hipe import convert_hipe\n",
    "\n",
    "hipe = convert_hipe(str(data_path / f\"{zip_file.split('.')[0]}\"), data_path / \"hipe_15min.h5\",  use_columns=[\"id\", \"P_kW__mean\"], metadata_path=\"metadata_15min\")"
   ]
  },
  {
   "cell_type": "code",
   "execution_count": null,
   "metadata": {},
   "outputs": [],
   "source": [
    "# heatmap all variables\n",
    "import seaborn as sns\n",
    "import matplotlib.pyplot as plt\n",
    "\n",
    "%matplotlib inline\n",
    "corr_matrix = df_all.reset_index(drop=True).corr(numeric_only=True)\n",
    "plt.figure(figsize=(25, 8))\n",
    "sns.heatmap(corr_matrix, annot=True, cmap=\"crest\")\n",
    "plt.show()"
   ]
  },
  {
   "cell_type": "code",
   "execution_count": null,
   "metadata": {},
   "outputs": [],
   "source": [
    "# Generate pandas profile report\n",
    "# df_all_profile = df_all.set_index(\"kiln\", append=True, drop=False).copy()\n",
    "# from pandas_profiling import ProfileReport\n",
    "\n",
    "# profile = ProfileReport(df_all, title=\"Processed Combined Data\", explorative=False)\n",
    "# output_file=\"../reports/eda_processed.html\"\n",
    "# # create parent directory if it does not exist\n",
    "# Path(output_file).parent.mkdir(parents=True, exist_ok=True)\n",
    "# profile.to_file(output_file=output_file)"
   ]
  }
 ],
 "metadata": {
  "environment": {
   "kernel": "python3",
   "name": "common-cpu.m100",
   "type": "gcloud",
   "uri": "gcr.io/deeplearning-platform-release/base-cpu:m100"
  },
  "kernelspec": {
   "display_name": "NILM-env",
   "language": "python",
   "name": "python3"
  },
  "language_info": {
   "codemirror_mode": {
    "name": "ipython",
    "version": 3
   },
   "file_extension": ".py",
   "mimetype": "text/x-python",
   "name": "python",
   "nbconvert_exporter": "python",
   "pygments_lexer": "ipython3",
   "version": "3.11.9"
  }
 },
 "nbformat": 4,
 "nbformat_minor": 4
}
